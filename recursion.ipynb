{
 "cells": [
  {
   "cell_type": "code",
   "execution_count": 5,
   "metadata": {},
   "outputs": [],
   "source": []
  },
  {
   "cell_type": "code",
   "execution_count": 32,
   "metadata": {},
   "outputs": [],
   "source": [
    "def flatten(potential_arr):\n",
    "#     print(potential_arr)\n",
    "    results = []\n",
    "    for item in potential_arr:\n",
    "        if not isinstance(item, list):\n",
    "            # if this isn't a list then just push it into the existing list\n",
    "            results.append(item)\n",
    "        else:\n",
    "            # ok, this is a list, then we'll join the results list (with extend) with a flattened list of the item \n",
    "            results.extend(flatten(item))\n",
    "    return results"
   ]
  },
  {
   "cell_type": "code",
   "execution_count": null,
   "metadata": {},
   "outputs": [],
   "source": [
    "# would it work?\n",
    "res = flatten([1,2,3,[4,5]])\n",
    "print(res)"
   ]
  },
  {
   "cell_type": "markdown",
   "metadata": {},
   "source": [
    "## lets try to understand what's happening here"
   ]
  },
  {
   "cell_type": "code",
   "execution_count": 33,
   "metadata": {},
   "outputs": [
    {
     "name": "stdout",
     "output_type": "stream",
     "text": [
      "[1, 3, 4, 1, 4, 6, 2, 3, 4, 2, 3, 55, 6]\n"
     ]
    }
   ],
   "source": [
    "# note this is approach would also work for any depth of nesting\n",
    "\n",
    "unflattened = [[1, 3, 4], 1, 4, 6, [[2, 3, 4], 2, [3, [55, 6]]]]\n",
    "res = flatten(unflattened)\n",
    "print(res)"
   ]
  },
  {
   "cell_type": "code",
   "execution_count": 34,
   "metadata": {},
   "outputs": [
    {
     "name": "stdout",
     "output_type": "stream",
     "text": [
      "[1, 2, 3, 4, 5]\n"
     ]
    }
   ],
   "source": []
  }
 ],
 "metadata": {
  "kernelspec": {
   "display_name": "Python 3",
   "language": "python",
   "name": "python3"
  },
  "language_info": {
   "codemirror_mode": {
    "name": "ipython",
    "version": 3
   },
   "file_extension": ".py",
   "mimetype": "text/x-python",
   "name": "python",
   "nbconvert_exporter": "python",
   "pygments_lexer": "ipython3",
   "version": "3.8.1"
  }
 },
 "nbformat": 4,
 "nbformat_minor": 4
}
