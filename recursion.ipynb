{
 "cells": [
  {
   "cell_type": "markdown",
   "metadata": {},
   "source": [
    "# Recursion\n",
    "*In programming terms a recursive function can be defined as a routine that calls itself directly or indirectly.*"
   ]
  },
  {
   "cell_type": "markdown",
   "metadata": {},
   "source": [
    "## WHAT?!\n",
    "![eating recursion](./images/eating_recursion.gif)\n",
    "\n",
    "Source [here](https://www.reddit.com/r/perfectloops/comments/6h0ij2/youre_eating_recursion/)"
   ]
  },
  {
   "cell_type": "markdown",
   "metadata": {},
   "source": [
    "## Fibonacci series \n",
    "\n",
    "(I don't know why this is a common example for recursion, and I don't like it, but that's the common example)\n",
    "\n",
    "Example for a fibonacci series: 1, 1, 2, 3, 5, 8, 13, 21, 34, 55 … fib(n-2) + fib(n-1)\n",
    "Every cell (besides the first two) is the sum of the two before it"
   ]
  },
  {
   "cell_type": "code",
   "execution_count": null,
   "metadata": {},
   "outputs": [],
   "source": [
    "def fib(n):\n",
    "#     print(n)\n",
    "    if n <= 1:\n",
    "        # the stop condition\n",
    "        return 1\n",
    "    else:\n",
    "        # this is the magic\n",
    "        return fib(n-1) + fib(n-2)"
   ]
  },
  {
   "cell_type": "code",
   "execution_count": null,
   "metadata": {},
   "outputs": [],
   "source": [
    "print(fib(4))"
   ]
  },
  {
   "cell_type": "code",
   "execution_count": null,
   "metadata": {},
   "outputs": [],
   "source": [
    "# lets try this - \n",
    "print(fib(7)) # the seven cell\n",
    "print(fib(1)) # the second\n",
    "print(fib(0)) # the first"
   ]
  },
  {
   "cell_type": "code",
   "execution_count": null,
   "metadata": {},
   "outputs": [],
   "source": [
    "print(fib(20)) \n",
    "# what happens if we try fib(50)"
   ]
  },
  {
   "cell_type": "markdown",
   "metadata": {},
   "source": [
    "## Recursion with arrays\n",
    "\n",
    "That would usually demand we save the results array and return it when finished"
   ]
  },
  {
   "cell_type": "code",
   "execution_count": null,
   "metadata": {},
   "outputs": [],
   "source": [
    "def flatten(potential_arr):\n",
    "#     print(potential_arr)\n",
    "    results = []\n",
    "    for item in potential_arr:\n",
    "        if not isinstance(item, list):\n",
    "            # if this isn't a list then just push it into the existing list\n",
    "            results.append(item)\n",
    "        else:\n",
    "            # ok, this is a list, then we'll join the results list (with extend) with a flattened list of the item \n",
    "            results.extend(flatten(item))\n",
    "    return results"
   ]
  },
  {
   "cell_type": "code",
   "execution_count": null,
   "metadata": {},
   "outputs": [],
   "source": [
    "# would it work?\n",
    "res = flatten([1,2,3,[4,5]])\n",
    "print(res)"
   ]
  },
  {
   "cell_type": "markdown",
   "metadata": {},
   "source": [
    "## lets try to understand what's happening here"
   ]
  },
  {
   "cell_type": "code",
   "execution_count": null,
   "metadata": {},
   "outputs": [],
   "source": [
    "# note this is approach would also work for any depth of nesting\n",
    "\n",
    "unflattened = [[1, 3, 4], 1, 4, 6, [[2, 3, 4], 2, [3, [55, 6]]]]\n",
    "res = flatten(unflattened)\n",
    "print(res)"
   ]
  },
  {
   "cell_type": "markdown",
   "metadata": {},
   "source": [
    "## revisting fibonacci\n",
    "Note that if we print the numbers, the same numbers come up again and again"
   ]
  },
  {
   "cell_type": "code",
   "execution_count": null,
   "metadata": {},
   "outputs": [],
   "source": [
    "fib(4)"
   ]
  },
  {
   "cell_type": "markdown",
   "metadata": {},
   "source": [
    "to calculate the 5 cell, we calculate 3, 4, and for 3 we calculate 2,1 and for 4 we calculate 2,3 and then again for 3 we calculate 2,1 \n",
    "how many times was fib called?\n",
    "so lots of redudent calculations here, can we do this better?"
   ]
  },
  {
   "cell_type": "markdown",
   "metadata": {},
   "source": [
    "A common technique for that is \"saving\" the results of the sub calculations, so we don't need to do them again. it's called memoizing"
   ]
  },
  {
   "cell_type": "code",
   "execution_count": null,
   "metadata": {},
   "outputs": [],
   "source": [
    "# we won't explain how exactly this works, but you might figure this out\n",
    "def memoize(fn):\n",
    "    \"\"\"\n",
    "    A function that gets a function and for each value checks if it was already calculated by the function\n",
    "    if so, don't recalculate but return the saved value\n",
    "    :param fn, a function\n",
    "    \"\"\"\n",
    "    memo = {}\n",
    "    def helper(x):\n",
    "        if x not in memo:            \n",
    "            memo[x] = fn(x)\n",
    "        return memo[x]\n",
    "    return helper\n",
    "\n",
    "\n",
    "def memfib(n):\n",
    "#     print(n)\n",
    "\n",
    "    if n <= 1:\n",
    "        # the stop condition\n",
    "        return 1\n",
    "    else:\n",
    "        return memfib(n-1) + memfib(n-2)\n",
    "# this is the important part - \n",
    "memfib = memoize(memfib)"
   ]
  },
  {
   "cell_type": "code",
   "execution_count": null,
   "metadata": {},
   "outputs": [],
   "source": [
    "fib(50) # Don't run it yourself"
   ]
  },
  {
   "cell_type": "code",
   "execution_count": null,
   "metadata": {},
   "outputs": [],
   "source": [
    "memfib(50)"
   ]
  },
  {
   "cell_type": "markdown",
   "metadata": {},
   "source": [
    "# So what are recursions for for?\n",
    "\n",
    "Maybe we have data which is a tree?\n",
    "\n",
    "![tree](./images/tree.png)\n",
    "\n",
    "or a graph of friends or interconnected wikipedia pages:\n",
    "\n",
    "![graph](./images/cyclic-graph.jpg)\n",
    "\n",
    "exploring a maze or solving a soduko\n",
    "\n",
    "![graph](./images/df_maze.png)"
   ]
  },
  {
   "cell_type": "markdown",
   "metadata": {},
   "source": [
    "## Did  we already met a recursive algo?\n",
    "\n",
    "**Remember! while Elegant recursion in python is usually an anti pattern, but in certain cases, you'll need it**"
   ]
  },
  {
   "cell_type": "markdown",
   "metadata": {},
   "source": [
    "## Read more\n",
    "\n",
    "* [Maya gershovitz bar series about recursion - in hebrew](https://algoritmim.co.il/just-code/recursion-intro/)\n"
   ]
  },
  {
   "cell_type": "markdown",
   "metadata": {},
   "source": [
    "# Homework\n",
    "\n",
    "* This is wikipedia api (for hebrew) [docs](https://www.mediawiki.org/wiki/API:Main_page/he)\n"
   ]
  },
  {
   "cell_type": "code",
   "execution_count": null,
   "metadata": {},
   "outputs": [],
   "source": [
    "# for example: this is how we'll get all the links for wikipedia page named רקורסיה from hebrew wikipedia\n",
    "import requests\n",
    "res = requests.get('https://he.wikipedia.org/w/api.php?action=query&format=json&titles=רקורסיה&prop=links&pllimit=max')\n",
    "print(res.json())"
   ]
  },
  {
   "cell_type": "markdown",
   "metadata": {},
   "source": [
    "## The assignment\n",
    "\n",
    "Use the tools we already learned: http requests with \"requests\", recursion, text formatting, data structures (set and dict) etc to scrape links for wikipedia page of recursion\n",
    "\n",
    "0. Stop when 3 steps removed, Note, not to revisit a page you already visited\n",
    "1. print the number of **unique** links and the **total** number of links\n",
    "2. Bonus: print the number of links that were revisited\n",
    "\n",
    "It might be a bit hard for you, but try. "
   ]
  }
 ],
 "metadata": {
  "kernelspec": {
   "display_name": "Python 3",
   "language": "python",
   "name": "python3"
  },
  "language_info": {
   "codemirror_mode": {
    "name": "ipython",
    "version": 3
   },
   "file_extension": ".py",
   "mimetype": "text/x-python",
   "name": "python",
   "nbconvert_exporter": "python",
   "pygments_lexer": "ipython3",
   "version": "3.8.1"
  }
 },
 "nbformat": 4,
 "nbformat_minor": 4
}
